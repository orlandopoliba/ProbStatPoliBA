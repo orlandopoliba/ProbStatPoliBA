{
 "cells": [
  {
   "cell_type": "markdown",
   "metadata": {},
   "source": [
    "# Legge esponenziale\n",
    "\n",
    "Ricordiamo che se $X \\sim \\mathrm{Exp}(\\lambda)$ allora ha funzione di densità di probabilità\n",
    "$$\n",
    "f(x) = \\begin{cases}\n",
    "\\lambda e^{-\\lambda x} & \\text{se } x > 0 \\\\\n",
    "0 & \\text{altrimenti} \\, .\n",
    "\\end{cases}\n",
    "$$"
   ]
  },
  {
   "cell_type": "markdown",
   "metadata": {},
   "source": [
    "Importiamo le librerie necessarie."
   ]
  },
  {
   "cell_type": "code",
   "execution_count": 1,
   "metadata": {},
   "outputs": [],
   "source": [
    "import numpy as np\n",
    "import matplotlib.pyplot as plt\n",
    "from math import gamma\n",
    "\n",
    "from ipywidgets import interactive\n",
    "\n",
    "%matplotlib inline"
   ]
  },
  {
   "cell_type": "markdown",
   "metadata": {},
   "source": [
    "Definiamo la funzione che disegna la funzione di densità di probabilità di una variabile aleatoria distribuita con legge esponenziale."
   ]
  },
  {
   "cell_type": "code",
   "execution_count": 2,
   "metadata": {},
   "outputs": [],
   "source": [
    "def plot_exp(l=1):\n",
    "  x = np.linspace(0.01, 10, num=1000)\n",
    "  y = l * np.exp(-l*x)\n",
    "  fig, ax = plt.subplots(1, 1)\n",
    "  ax.set_ylim(0,2)\n",
    "  ax.fill_between(x, np.zeros_like(y) ,y, color=\"teal\") "
   ]
  },
  {
   "cell_type": "markdown",
   "metadata": {},
   "source": [
    "Il seguente codice crea un plot interattivo. Si può modificare $\\lambda$ e osservare come cambia l'aspetto del grafico della funzione di densità di probabilità di una variabile aleatoria distribuita con legge Gamma."
   ]
  },
  {
   "cell_type": "code",
   "execution_count": 3,
   "metadata": {},
   "outputs": [
    {
     "data": {
      "application/vnd.jupyter.widget-view+json": {
       "model_id": "2dc71451e2cb403eade6a6a4f44e62f3",
       "version_major": 2,
       "version_minor": 0
      },
      "text/plain": [
       "interactive(children=(FloatSlider(value=1.0, description='l', max=2.0, min=0.1, step=0.01), Output()), _dom_cl…"
      ]
     },
     "execution_count": 3,
     "metadata": {},
     "output_type": "execute_result"
    }
   ],
   "source": [
    "interactive_plot = interactive(plot_exp, l=(0.1,2,0.01))\n",
    "interactive_plot"
   ]
  }
 ],
 "metadata": {
  "interpreter": {
   "hash": "aee8b7b246df8f9039afb4144a1f6fd8d2ca17a180786b69acc140d282b71a49"
  },
  "kernelspec": {
   "display_name": "Python 3.9.0 64-bit",
   "language": "python",
   "name": "python3"
  },
  "language_info": {
   "codemirror_mode": {
    "name": "ipython",
    "version": 3
   },
   "file_extension": ".py",
   "mimetype": "text/x-python",
   "name": "python",
   "nbconvert_exporter": "python",
   "pygments_lexer": "ipython3",
   "version": "3.11.5"
  },
  "orig_nbformat": 4
 },
 "nbformat": 4,
 "nbformat_minor": 2
}
