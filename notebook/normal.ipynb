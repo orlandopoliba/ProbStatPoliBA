{
 "cells": [
  {
   "cell_type": "markdown",
   "metadata": {},
   "source": [
    "# Legge normale\n",
    "\n",
    "Ricordiamo che se $X \\sim \\mathcal{N}(\\mu, \\sigma^2)$ allora ha funzione di densità di probabilità\n",
    "$$\n",
    "f(x) = \\frac{1}{\\sigma \\sqrt{2 \\pi}} e^{-\\frac{1}{2}(\\frac{x-\\mu}{\\sigma})^2} \\, .\n",
    "$$"
   ]
  },
  {
   "cell_type": "markdown",
   "metadata": {},
   "source": [
    "Importiamo le librerie necessarie."
   ]
  },
  {
   "cell_type": "code",
   "execution_count": 1,
   "metadata": {},
   "outputs": [],
   "source": [
    "import numpy as np\n",
    "import matplotlib.pyplot as plt\n",
    "\n",
    "from ipywidgets import interactive\n",
    "\n",
    "%matplotlib inline"
   ]
  },
  {
   "cell_type": "markdown",
   "metadata": {},
   "source": [
    "Definiamo la funzione di densità di probabilità utilizzando come parametri la media $\\mu$ e la varianza $\\sigma^2$."
   ]
  },
  {
   "cell_type": "code",
   "execution_count": 2,
   "metadata": {},
   "outputs": [],
   "source": [
    "def f(x,mu,sigmaSquared): \n",
    "    sigma = np.sqrt(sigmaSquared)\n",
    "    return 1/(sigma*np.sqrt(2*np.pi))*np.exp(-1/2*((x-mu)/sigma)**2)"
   ]
  },
  {
   "cell_type": "markdown",
   "metadata": {},
   "source": [
    "Definiamo la funzione che disegna la funzione di densità di probabilità di una variabile aleatoria distribuita con legge normale."
   ]
  },
  {
   "cell_type": "code",
   "execution_count": 3,
   "metadata": {},
   "outputs": [],
   "source": [
    "def plot_normal(mu=0,sigmaSquared=1):\n",
    "  x = np.linspace(-10, 10, num=1000)\n",
    "  y = f(x,mu,sigmaSquared)\n",
    "  fig, ax = plt.subplots(1, 1)\n",
    "  ax.set_ylim(0,0.6)\n",
    "  ax.fill_between(x, np.zeros_like(y) ,y, color=\"teal\") "
   ]
  },
  {
   "cell_type": "markdown",
   "metadata": {},
   "source": [
    "Il seguente codice crea un plot interattivo. Si possono modificare $\\mu$ e $\\sigma^2$ e osservare come cambia l'aspetto del grafico della funzione di densità di probabilità di una variabile aleatoria distribuita con legge normale."
   ]
  },
  {
   "cell_type": "code",
   "execution_count": 4,
   "metadata": {},
   "outputs": [
    {
     "data": {
      "application/vnd.jupyter.widget-view+json": {
       "model_id": "8f1b8245c43c48539cbb966bb024571e",
       "version_major": 2,
       "version_minor": 0
      },
      "text/plain": [
       "interactive(children=(FloatSlider(value=0.0, description='mu', max=10.0, min=-10.0), FloatSlider(value=1.0, de…"
      ]
     },
     "execution_count": 4,
     "metadata": {},
     "output_type": "execute_result"
    }
   ],
   "source": [
    "interactive_plot = interactive(plot_normal, mu=(-10,10,0.1), sigmaSquared=(0.5,50,0.01))\n",
    "interactive_plot"
   ]
  },
  {
   "cell_type": "code",
   "execution_count": 29,
   "metadata": {},
   "outputs": [
    {
     "data": {
      "image/png": "[encoded data removed]",
      "text/plain": [
       "<Figure size 640x480 with 1 Axes>"
      ]
     },
     "metadata": {},
     "output_type": "display_data"
    }
   ],
   "source": [
    "x = np.linspace(-5, 5, num=1000)\n",
    "y = f(x,0,1)\n",
    "fig, ax = plt.subplots(1, 1)\n",
    "ax.set(xlim=(-5, 5), xticks=[], ylim=(-0.05,0.5), yticks=[])\n",
    "ax.spines['left'].set_visible(False)\n",
    "ax.spines['right'].set_visible(False)\n",
    "ax.spines['top'].set_visible(False)\n",
    "ax.spines['bottom'].set_visible(False)\n",
    "ax.annotate(\"\", xy=(-4.5, 0.5), xytext=(-4.5,-0.05), arrowprops=dict(arrowstyle=\"->\", linewidth=0.6))\n",
    "ax.annotate(\"\", xy=(5, 0), xytext=(-5,0), arrowprops=dict(arrowstyle=\"->\", linewidth=0.6))\n",
    "ax.plot(x,y, color='black', linewidth=1) \n",
    "X = np.random.randn(1000)\n",
    "ax.hist(X,bins=13,density=True, color='teal', edgecolor='black')\n"
   ]
  },
  {
   "cell_type": "code",
   "execution_count": null,
   "metadata": {},
   "outputs": [],
   "source": []
  }
 ],
 "metadata": {
  "interpreter": {
   "hash": "aee8b7b246df8f9039afb4144a1f6fd8d2ca17a180786b69acc140d282b71a49"
  },
  "kernelspec": {
   "display_name": "Python 3.9.0 64-bit",
   "language": "python",
   "name": "python3"
  },
  "language_info": {
   "codemirror_mode": {
    "name": "ipython",
    "version": 3
   },
   "file_extension": ".py",
   "mimetype": "text/x-python",
   "name": "python",
   "nbconvert_exporter": "python",
   "pygments_lexer": "ipython3",
   "version": "3.11.5"
  },
  "orig_nbformat": 4
 },
 "nbformat": 4,
 "nbformat_minor": 2
}
