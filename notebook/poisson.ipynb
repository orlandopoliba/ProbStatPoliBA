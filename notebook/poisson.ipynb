{
 "cells": [
  {
   "cell_type": "markdown",
   "metadata": {},
   "source": [
    "# Legge di Poisson\n",
    "\n",
    "Ricordiamo che se $X \\sim \\mathrm{P}(\\lambda)$ allora \n",
    "$$\n",
    "\\mathbb{P}(\\{X = k\\}) = e^{-\\lambda} \\frac{\\lambda^k}{k!} \\, .\n",
    "$$"
   ]
  },
  {
   "cell_type": "markdown",
   "metadata": {},
   "source": [
    "Importiamo le librerie necessarie."
   ]
  },
  {
   "cell_type": "code",
   "execution_count": 1,
   "metadata": {},
   "outputs": [],
   "source": [
    "import numpy as np\n",
    "from math import factorial\n",
    "import matplotlib.pyplot as plt\n",
    "\n",
    "from ipywidgets import interactive\n",
    "\n",
    "%matplotlib inline"
   ]
  },
  {
   "cell_type": "markdown",
   "metadata": {},
   "source": [
    "Definiamo la funzione che disegna la funzione di massa di probabilità di una variabile aleatoria distribuita con legge di Poisson."
   ]
  },
  {
   "cell_type": "code",
   "execution_count": 2,
   "metadata": {},
   "outputs": [],
   "source": [
    "def plot_poisson(l=2):\n",
    "  n_max = 20\n",
    "  poisson_value = np.zeros(n_max)\n",
    "  for k in range(n_max):\n",
    "      poisson_value[k] = np.exp(-l) * l**k / factorial(k)\n",
    "  fig, ax = plt.subplots(1, 1)\n",
    "  ax.set_ylim(0,0.5)\n",
    "  ax.set_xticks(range(n_max))\n",
    "  ax.bar(range(n_max), poisson_value, color=['teal']) "
   ]
  },
  {
   "cell_type": "markdown",
   "metadata": {},
   "source": [
    "Il seguente codice crea un plot interattivo. Si può modificare $\\lambda$ e osservare come cambia l'aspetto del grafico della funzione di massa di probabilità di una variabile aleatoria distribuita con legge di Poisson."
   ]
  },
  {
   "cell_type": "code",
   "execution_count": 3,
   "metadata": {},
   "outputs": [
    {
     "data": {
      "application/vnd.jupyter.widget-view+json": {
       "model_id": "5f716d9dd2a64300b517658ee2e9fc4b",
       "version_major": 2,
       "version_minor": 0
      },
      "text/plain": [
       "interactive(children=(FloatSlider(value=2.0, description='l', max=20.0, min=1.0), Output()), _dom_classes=('wi…"
      ]
     },
     "execution_count": 3,
     "metadata": {},
     "output_type": "execute_result"
    }
   ],
   "source": [
    "interactive_plot = interactive(plot_poisson, l=(1,20,0.1))\n",
    "interactive_plot "
   ]
  },
  {
   "cell_type": "code",
   "execution_count": null,
   "metadata": {},
   "outputs": [],
   "source": []
  }
 ],
 "metadata": {
  "interpreter": {
   "hash": "aee8b7b246df8f9039afb4144a1f6fd8d2ca17a180786b69acc140d282b71a49"
  },
  "kernelspec": {
   "display_name": "Python 3.9.0 64-bit",
   "language": "python",
   "name": "python3"
  },
  "language_info": {
   "codemirror_mode": {
    "name": "ipython",
    "version": 3
   },
   "file_extension": ".py",
   "mimetype": "text/x-python",
   "name": "python",
   "nbconvert_exporter": "python",
   "pygments_lexer": "ipython3",
   "version": "3.11.5"
  },
  "orig_nbformat": 4
 },
 "nbformat": 4,
 "nbformat_minor": 2
}
